{
 "cells": [
  {
   "cell_type": "markdown",
   "metadata": {},
   "source": [
    "In this notebook we will look at [SPARCS](https://www.health.ny.gov/statistics/sparcs/) data from calendar year 2014. SPARCS data is reported by the hospital to [New York State Department of Health](https://www.health.ny.gov/).  For every discharge at an [Article 28 Facility](https://www.health.ny.gov/facilities/hospital/regulations/) is included. Only a small number of fields are released to the public [data portal](https://health.data.ny.gov/). The elements that are released through the portal do not allow a patient to be identified. The elements meet the [HIPAA](http://www.hhs.gov/hipaa/) [safe harbor criteria](http://www.hhs.gov/hipaa/for-professionals/privacy/special-topics/de-identification/index.html#safeharborguidance). \n",
    "\n",
    "The public SPARCS file data is hosted via a [Socrata](https://www.socrata.com/) based data portal. Socrata provides a web front-end to the data and an API (Application Programming Interface). The Rest API is known as [SODA](https://dev.socrata.com/consumers/getting-started.html) and it provides a simple SQL like syntax for querying the data set. As an example of an application that has been developed to work with SODA is the [PQI browser](http://mathbiol.github.io/openHealth/?jobs/pqiSuffolk.js). The application was developed by Professor Jonas Almeida, a colleague of mine.\n",
    "\n",
    "There are approximately 2 million discharges per year. Each data set contains only a year's worth of discharge data. For the example in this notebook we will look at less than 2000 records.\n",
    "\n",
    "Kidney transplants from both living and deceased donors are complex surgeries. Unlike a majority of surgeries, such as knee or hip replacements, transplants are done exclusively at inpatient facilities. Only a few hospitals in New York State have kidney transplant programs. Most hospitals that offer transplants are large university/teaching based\n",
    "facilities. For patients with renal failure and on dialysis kidney transplants are critical for long term survival.  \n",
    "\n",
    "The goal in this analysis is to learn if open health data can provide any insight into kidney transplants in New York State. One of the questions that we will try to quantify is if there are quantifiable differences between transplant programs."
   ]
  },
  {
   "cell_type": "code",
   "execution_count": 99,
   "metadata": {
    "collapsed": true
   },
   "outputs": [],
   "source": [
    "import pandas as pd"
   ]
  },
  {
   "cell_type": "markdown",
   "metadata": {},
   "source": [
    "In order to select kidney transplants we need to determine the correct code. There are two main types of codes that are available in SPARCS. There are diagnosis codes which indicate what diseases or medical issues a patient had and procedure codes which detail what was done to the patient. The Public SPARCS data only contains a single primary procedure and diagnosis code. In the full SPARCS dataset that is available to researchers there is often more than 10 diagnosis codes associated with a discharge. Normally, these codes are coded using ICD9-CM codes (as of October, 1 2015 ICD10-CM and PCS codes are being used). There are approximately 20,000 codes and these codes can often can be very detailed. The Public SPARCS data uses [CCS](https://www.hcup-us.ahrq.gov/toolssoftware/ccs/ccs.jsp) (Clinical Classification Software) codes which transforms the number of number of codes into the 100s. For example, there maybe 10 codes for diabetes that are mapped to a single CCS code. The CCS procedure code for Kidney Transplant is 105. We use this to get all discharge records for patients that got a kidney transplants as the primary procedure. "
   ]
  },
  {
   "cell_type": "code",
   "execution_count": 100,
   "metadata": {
    "collapsed": false
   },
   "outputs": [
    {
     "name": "stdout",
     "output_type": "stream",
     "text": [
      "https://health.data.ny.gov/resource/rmwa-zns4.json?ccs_procedure_code=105&$limit=10000\n"
     ]
    }
   ],
   "source": [
    "kt_url = 'https://health.data.ny.gov/resource/rmwa-zns4.json?ccs_procedure_code=105&$limit=10000'\n",
    "print(kt_url)"
   ]
  },
  {
   "cell_type": "markdown",
   "metadata": {},
   "source": [
    "Once a URL is constructed to a data source  a `GET` request over HTTP (HyperText Transfer Protocol) can be executed. The HTTP protocol is how most data is transferred from a host/server to the client. Here the client is not a web browser but the Python kernel running on your computer. \n",
    "\n",
    "Each data source in the Socrata environment is identified by a short string or data tag. The SPARCS 2014 data tag is `\"rmwa-zns4\"`. In the above request we are asking for a JSON document. JSON or Javascript Object Notation is a text based format for exchanging data in a machine readable format. One can think of JSON as a CSV format for the Internet Era. The Pandas' library function `\"read_json()\"` can take a URL and makes a remote call to the Socrata server and read the response. If the URL is misspecified than an error will occur. It converts the JSON response into a dataframe. Pandas' dataframes are powerful constructs for working with table based data."
   ]
  },
  {
   "cell_type": "code",
   "execution_count": 101,
   "metadata": {
    "collapsed": false
   },
   "outputs": [],
   "source": [
    "kidney_transplants_df = pd.read_json(kt_url)"
   ]
  },
  {
   "cell_type": "code",
   "execution_count": 102,
   "metadata": {
    "collapsed": false
   },
   "outputs": [
    {
     "data": {
      "text/plain": [
       "1169"
      ]
     },
     "execution_count": 102,
     "metadata": {},
     "output_type": "execute_result"
    }
   ],
   "source": [
    "len(kidney_transplants_df.length_of_stay)"
   ]
  },
  {
   "cell_type": "markdown",
   "metadata": {},
   "source": [
    "What does data in the dataframe look like. We can use the dataframe method `head()` to get the first 10 rows of the table."
   ]
  },
  {
   "cell_type": "code",
   "execution_count": 103,
   "metadata": {
    "collapsed": false
   },
   "outputs": [
    {
     "data": {
      "text/html": [
       "<div>\n",
       "<table border=\"1\" class=\"dataframe\">\n",
       "  <thead>\n",
       "    <tr style=\"text-align: right;\">\n",
       "      <th></th>\n",
       "      <th>abortion_edit_indicator</th>\n",
       "      <th>admit_day_of_week</th>\n",
       "      <th>age_group</th>\n",
       "      <th>apr_drg_code</th>\n",
       "      <th>apr_drg_description</th>\n",
       "      <th>apr_mdc_code</th>\n",
       "      <th>apr_mdc_description</th>\n",
       "      <th>apr_medical_surgical_description</th>\n",
       "      <th>apr_risk_of_mortality</th>\n",
       "      <th>apr_severity_of_illness_code</th>\n",
       "      <th>...</th>\n",
       "      <th>operating_provider_license_number</th>\n",
       "      <th>patient_disposition</th>\n",
       "      <th>race</th>\n",
       "      <th>source_of_payment_1</th>\n",
       "      <th>source_of_payment_2</th>\n",
       "      <th>source_of_payment_3</th>\n",
       "      <th>total_charges</th>\n",
       "      <th>total_costs</th>\n",
       "      <th>type_of_admission</th>\n",
       "      <th>zip_code_3_digits</th>\n",
       "    </tr>\n",
       "  </thead>\n",
       "  <tbody>\n",
       "    <tr>\n",
       "      <th>0</th>\n",
       "      <td>N</td>\n",
       "      <td>MON</td>\n",
       "      <td>50 to 69</td>\n",
       "      <td>440</td>\n",
       "      <td>KIDNEY TRANSPLANT</td>\n",
       "      <td>11</td>\n",
       "      <td>Diseases and Disorders of the Kidney and Urina...</td>\n",
       "      <td>Surgical</td>\n",
       "      <td>Moderate</td>\n",
       "      <td>2</td>\n",
       "      <td>...</td>\n",
       "      <td>216816</td>\n",
       "      <td>Home or Self Care</td>\n",
       "      <td>White</td>\n",
       "      <td>Blue Cross/Blue Shield</td>\n",
       "      <td>Medicare</td>\n",
       "      <td>Self-Pay</td>\n",
       "      <td>164379.11</td>\n",
       "      <td>600007.65</td>\n",
       "      <td>Elective</td>\n",
       "      <td>142</td>\n",
       "    </tr>\n",
       "    <tr>\n",
       "      <th>1</th>\n",
       "      <td>N</td>\n",
       "      <td>THU</td>\n",
       "      <td>30 to 49</td>\n",
       "      <td>440</td>\n",
       "      <td>KIDNEY TRANSPLANT</td>\n",
       "      <td>11</td>\n",
       "      <td>Diseases and Disorders of the Kidney and Urina...</td>\n",
       "      <td>Surgical</td>\n",
       "      <td>Major</td>\n",
       "      <td>3</td>\n",
       "      <td>...</td>\n",
       "      <td>90003252</td>\n",
       "      <td>Home or Self Care</td>\n",
       "      <td>Black/African American</td>\n",
       "      <td>Medicare</td>\n",
       "      <td>Medicaid</td>\n",
       "      <td>Self-Pay</td>\n",
       "      <td>193742.47</td>\n",
       "      <td>617385.16</td>\n",
       "      <td>Urgent</td>\n",
       "      <td>142</td>\n",
       "    </tr>\n",
       "    <tr>\n",
       "      <th>2</th>\n",
       "      <td>N</td>\n",
       "      <td>MON</td>\n",
       "      <td>30 to 49</td>\n",
       "      <td>440</td>\n",
       "      <td>KIDNEY TRANSPLANT</td>\n",
       "      <td>11</td>\n",
       "      <td>Diseases and Disorders of the Kidney and Urina...</td>\n",
       "      <td>Surgical</td>\n",
       "      <td>Minor</td>\n",
       "      <td>1</td>\n",
       "      <td>...</td>\n",
       "      <td>216816</td>\n",
       "      <td>Home or Self Care</td>\n",
       "      <td>White</td>\n",
       "      <td>Medicare</td>\n",
       "      <td>Self-Pay</td>\n",
       "      <td>NaN</td>\n",
       "      <td>125838.17</td>\n",
       "      <td>415105.69</td>\n",
       "      <td>Elective</td>\n",
       "      <td>136</td>\n",
       "    </tr>\n",
       "    <tr>\n",
       "      <th>3</th>\n",
       "      <td>N</td>\n",
       "      <td>WED</td>\n",
       "      <td>30 to 49</td>\n",
       "      <td>440</td>\n",
       "      <td>KIDNEY TRANSPLANT</td>\n",
       "      <td>11</td>\n",
       "      <td>Diseases and Disorders of the Kidney and Urina...</td>\n",
       "      <td>Surgical</td>\n",
       "      <td>Minor</td>\n",
       "      <td>2</td>\n",
       "      <td>...</td>\n",
       "      <td>90003252</td>\n",
       "      <td>Home or Self Care</td>\n",
       "      <td>White</td>\n",
       "      <td>Medicaid</td>\n",
       "      <td>Self-Pay</td>\n",
       "      <td>NaN</td>\n",
       "      <td>169530.27</td>\n",
       "      <td>602840.63</td>\n",
       "      <td>Elective</td>\n",
       "      <td>142</td>\n",
       "    </tr>\n",
       "    <tr>\n",
       "      <th>4</th>\n",
       "      <td>N</td>\n",
       "      <td>WED</td>\n",
       "      <td>50 to 69</td>\n",
       "      <td>440</td>\n",
       "      <td>KIDNEY TRANSPLANT</td>\n",
       "      <td>11</td>\n",
       "      <td>Diseases and Disorders of the Kidney and Urina...</td>\n",
       "      <td>Surgical</td>\n",
       "      <td>Moderate</td>\n",
       "      <td>2</td>\n",
       "      <td>...</td>\n",
       "      <td>216816</td>\n",
       "      <td>Home or Self Care</td>\n",
       "      <td>White</td>\n",
       "      <td>Medicare</td>\n",
       "      <td>Medicare</td>\n",
       "      <td>Self-Pay</td>\n",
       "      <td>183224.09</td>\n",
       "      <td>610949.08</td>\n",
       "      <td>Elective</td>\n",
       "      <td>140</td>\n",
       "    </tr>\n",
       "    <tr>\n",
       "      <th>5</th>\n",
       "      <td>N</td>\n",
       "      <td>SUN</td>\n",
       "      <td>30 to 49</td>\n",
       "      <td>440</td>\n",
       "      <td>KIDNEY TRANSPLANT</td>\n",
       "      <td>11</td>\n",
       "      <td>Diseases and Disorders of the Kidney and Urina...</td>\n",
       "      <td>Surgical</td>\n",
       "      <td>Moderate</td>\n",
       "      <td>2</td>\n",
       "      <td>...</td>\n",
       "      <td>269820</td>\n",
       "      <td>Home or Self Care</td>\n",
       "      <td>White</td>\n",
       "      <td>Medicare</td>\n",
       "      <td>Medicaid</td>\n",
       "      <td>NaN</td>\n",
       "      <td>166918.35</td>\n",
       "      <td>602750.72</td>\n",
       "      <td>Elective</td>\n",
       "      <td>142</td>\n",
       "    </tr>\n",
       "    <tr>\n",
       "      <th>6</th>\n",
       "      <td>N</td>\n",
       "      <td>MON</td>\n",
       "      <td>30 to 49</td>\n",
       "      <td>440</td>\n",
       "      <td>KIDNEY TRANSPLANT</td>\n",
       "      <td>11</td>\n",
       "      <td>Diseases and Disorders of the Kidney and Urina...</td>\n",
       "      <td>Surgical</td>\n",
       "      <td>Minor</td>\n",
       "      <td>2</td>\n",
       "      <td>...</td>\n",
       "      <td>216816</td>\n",
       "      <td>Home or Self Care</td>\n",
       "      <td>Black/African American</td>\n",
       "      <td>Medicare</td>\n",
       "      <td>Self-Pay</td>\n",
       "      <td>Self-Pay</td>\n",
       "      <td>164177.35</td>\n",
       "      <td>600185.78</td>\n",
       "      <td>Urgent</td>\n",
       "      <td>142</td>\n",
       "    </tr>\n",
       "    <tr>\n",
       "      <th>7</th>\n",
       "      <td>N</td>\n",
       "      <td>MON</td>\n",
       "      <td>30 to 49</td>\n",
       "      <td>440</td>\n",
       "      <td>KIDNEY TRANSPLANT</td>\n",
       "      <td>11</td>\n",
       "      <td>Diseases and Disorders of the Kidney and Urina...</td>\n",
       "      <td>Surgical</td>\n",
       "      <td>Moderate</td>\n",
       "      <td>3</td>\n",
       "      <td>...</td>\n",
       "      <td>216816</td>\n",
       "      <td>Home or Self Care</td>\n",
       "      <td>White</td>\n",
       "      <td>Blue Cross/Blue Shield</td>\n",
       "      <td>Self-Pay</td>\n",
       "      <td>NaN</td>\n",
       "      <td>125849.82</td>\n",
       "      <td>415613.18</td>\n",
       "      <td>Elective</td>\n",
       "      <td>142</td>\n",
       "    </tr>\n",
       "    <tr>\n",
       "      <th>8</th>\n",
       "      <td>N</td>\n",
       "      <td>TUE</td>\n",
       "      <td>30 to 49</td>\n",
       "      <td>440</td>\n",
       "      <td>KIDNEY TRANSPLANT</td>\n",
       "      <td>11</td>\n",
       "      <td>Diseases and Disorders of the Kidney and Urina...</td>\n",
       "      <td>Surgical</td>\n",
       "      <td>Minor</td>\n",
       "      <td>1</td>\n",
       "      <td>...</td>\n",
       "      <td>269820</td>\n",
       "      <td>Home or Self Care</td>\n",
       "      <td>White</td>\n",
       "      <td>Medicare</td>\n",
       "      <td>Self-Pay</td>\n",
       "      <td>NaN</td>\n",
       "      <td>179106.21</td>\n",
       "      <td>608262.72</td>\n",
       "      <td>Elective</td>\n",
       "      <td>142</td>\n",
       "    </tr>\n",
       "    <tr>\n",
       "      <th>9</th>\n",
       "      <td>N</td>\n",
       "      <td>MON</td>\n",
       "      <td>30 to 49</td>\n",
       "      <td>440</td>\n",
       "      <td>KIDNEY TRANSPLANT</td>\n",
       "      <td>11</td>\n",
       "      <td>Diseases and Disorders of the Kidney and Urina...</td>\n",
       "      <td>Surgical</td>\n",
       "      <td>Moderate</td>\n",
       "      <td>1</td>\n",
       "      <td>...</td>\n",
       "      <td>216816</td>\n",
       "      <td>Home or Self Care</td>\n",
       "      <td>White</td>\n",
       "      <td>Blue Cross/Blue Shield</td>\n",
       "      <td>Self-Pay</td>\n",
       "      <td>NaN</td>\n",
       "      <td>121158.45</td>\n",
       "      <td>413673.49</td>\n",
       "      <td>Elective</td>\n",
       "      <td>142</td>\n",
       "    </tr>\n",
       "  </tbody>\n",
       "</table>\n",
       "<p>10 rows × 38 columns</p>\n",
       "</div>"
      ],
      "text/plain": [
       "  abortion_edit_indicator admit_day_of_week age_group  apr_drg_code  \\\n",
       "0                       N               MON  50 to 69           440   \n",
       "1                       N               THU  30 to 49           440   \n",
       "2                       N               MON  30 to 49           440   \n",
       "3                       N               WED  30 to 49           440   \n",
       "4                       N               WED  50 to 69           440   \n",
       "5                       N               SUN  30 to 49           440   \n",
       "6                       N               MON  30 to 49           440   \n",
       "7                       N               MON  30 to 49           440   \n",
       "8                       N               TUE  30 to 49           440   \n",
       "9                       N               MON  30 to 49           440   \n",
       "\n",
       "  apr_drg_description  apr_mdc_code  \\\n",
       "0   KIDNEY TRANSPLANT            11   \n",
       "1   KIDNEY TRANSPLANT            11   \n",
       "2   KIDNEY TRANSPLANT            11   \n",
       "3   KIDNEY TRANSPLANT            11   \n",
       "4   KIDNEY TRANSPLANT            11   \n",
       "5   KIDNEY TRANSPLANT            11   \n",
       "6   KIDNEY TRANSPLANT            11   \n",
       "7   KIDNEY TRANSPLANT            11   \n",
       "8   KIDNEY TRANSPLANT            11   \n",
       "9   KIDNEY TRANSPLANT            11   \n",
       "\n",
       "                                 apr_mdc_description  \\\n",
       "0  Diseases and Disorders of the Kidney and Urina...   \n",
       "1  Diseases and Disorders of the Kidney and Urina...   \n",
       "2  Diseases and Disorders of the Kidney and Urina...   \n",
       "3  Diseases and Disorders of the Kidney and Urina...   \n",
       "4  Diseases and Disorders of the Kidney and Urina...   \n",
       "5  Diseases and Disorders of the Kidney and Urina...   \n",
       "6  Diseases and Disorders of the Kidney and Urina...   \n",
       "7  Diseases and Disorders of the Kidney and Urina...   \n",
       "8  Diseases and Disorders of the Kidney and Urina...   \n",
       "9  Diseases and Disorders of the Kidney and Urina...   \n",
       "\n",
       "  apr_medical_surgical_description apr_risk_of_mortality  \\\n",
       "0                         Surgical              Moderate   \n",
       "1                         Surgical                 Major   \n",
       "2                         Surgical                 Minor   \n",
       "3                         Surgical                 Minor   \n",
       "4                         Surgical              Moderate   \n",
       "5                         Surgical              Moderate   \n",
       "6                         Surgical                 Minor   \n",
       "7                         Surgical              Moderate   \n",
       "8                         Surgical                 Minor   \n",
       "9                         Surgical              Moderate   \n",
       "\n",
       "   apr_severity_of_illness_code        ...         \\\n",
       "0                             2        ...          \n",
       "1                             3        ...          \n",
       "2                             1        ...          \n",
       "3                             2        ...          \n",
       "4                             2        ...          \n",
       "5                             2        ...          \n",
       "6                             2        ...          \n",
       "7                             3        ...          \n",
       "8                             1        ...          \n",
       "9                             1        ...          \n",
       "\n",
       "  operating_provider_license_number  patient_disposition  \\\n",
       "0                            216816    Home or Self Care   \n",
       "1                          90003252    Home or Self Care   \n",
       "2                            216816    Home or Self Care   \n",
       "3                          90003252    Home or Self Care   \n",
       "4                            216816    Home or Self Care   \n",
       "5                            269820    Home or Self Care   \n",
       "6                            216816    Home or Self Care   \n",
       "7                            216816    Home or Self Care   \n",
       "8                            269820    Home or Self Care   \n",
       "9                            216816    Home or Self Care   \n",
       "\n",
       "                     race     source_of_payment_1 source_of_payment_2  \\\n",
       "0                   White  Blue Cross/Blue Shield            Medicare   \n",
       "1  Black/African American                Medicare            Medicaid   \n",
       "2                   White                Medicare            Self-Pay   \n",
       "3                   White                Medicaid            Self-Pay   \n",
       "4                   White                Medicare            Medicare   \n",
       "5                   White                Medicare            Medicaid   \n",
       "6  Black/African American                Medicare            Self-Pay   \n",
       "7                   White  Blue Cross/Blue Shield            Self-Pay   \n",
       "8                   White                Medicare            Self-Pay   \n",
       "9                   White  Blue Cross/Blue Shield            Self-Pay   \n",
       "\n",
       "   source_of_payment_3 total_charges total_costs  type_of_admission  \\\n",
       "0             Self-Pay     164379.11   600007.65           Elective   \n",
       "1             Self-Pay     193742.47   617385.16             Urgent   \n",
       "2                  NaN     125838.17   415105.69           Elective   \n",
       "3                  NaN     169530.27   602840.63           Elective   \n",
       "4             Self-Pay     183224.09   610949.08           Elective   \n",
       "5                  NaN     166918.35   602750.72           Elective   \n",
       "6             Self-Pay     164177.35   600185.78             Urgent   \n",
       "7                  NaN     125849.82   415613.18           Elective   \n",
       "8                  NaN     179106.21   608262.72           Elective   \n",
       "9                  NaN     121158.45   413673.49           Elective   \n",
       "\n",
       "  zip_code_3_digits  \n",
       "0               142  \n",
       "1               142  \n",
       "2               136  \n",
       "3               142  \n",
       "4               140  \n",
       "5               142  \n",
       "6               142  \n",
       "7               142  \n",
       "8               142  \n",
       "9               142  \n",
       "\n",
       "[10 rows x 38 columns]"
      ]
     },
     "execution_count": 103,
     "metadata": {},
     "output_type": "execute_result"
    }
   ],
   "source": [
    "kidney_transplants_df.head(10)"
   ]
  },
  {
   "cell_type": "code",
   "execution_count": 104,
   "metadata": {
    "collapsed": true
   },
   "outputs": [],
   "source": [
    "#Uncomment last line if having issues with the live API connection\n",
    "#kidney_transplants_df.to_csv(\"./data/sparcs_ny_kidney_transplants_2014.csv\")\n",
    "#kidney_transpants_df = pd.read_csv(\"./data/sparcs_ny_kidney_transplants_2014.csv\")"
   ]
  },
  {
   "cell_type": "code",
   "execution_count": 105,
   "metadata": {
    "collapsed": false
   },
   "outputs": [
    {
     "data": {
      "text/plain": [
       "Index([u'abortion_edit_indicator', u'admit_day_of_week', u'age_group',\n",
       "       u'apr_drg_code', u'apr_drg_description', u'apr_mdc_code',\n",
       "       u'apr_mdc_description', u'apr_medical_surgical_description',\n",
       "       u'apr_risk_of_mortality', u'apr_severity_of_illness_code',\n",
       "       u'apr_severity_of_illness_description',\n",
       "       u'attending_provider_license_number', u'birth_weight',\n",
       "       u'ccs_diagnosis_code', u'ccs_diagnosis_description',\n",
       "       u'ccs_procedure_code', u'ccs_procedure_description',\n",
       "       u'discharge_day_of_week', u'discharge_year',\n",
       "       u'emergency_department_indicator', u'ethnicity', u'facility_id',\n",
       "       u'facility_name', u'gender', u'health_service_area', u'hospital_county',\n",
       "       u'length_of_stay', u'operating_certificate_number',\n",
       "       u'operating_provider_license_number', u'patient_disposition', u'race',\n",
       "       u'source_of_payment_1', u'source_of_payment_2', u'source_of_payment_3',\n",
       "       u'total_charges', u'total_costs', u'type_of_admission',\n",
       "       u'zip_code_3_digits'],\n",
       "      dtype='object')"
      ]
     },
     "execution_count": 105,
     "metadata": {},
     "output_type": "execute_result"
    }
   ],
   "source": [
    "kidney_transplants_df.columns"
   ]
  },
  {
   "cell_type": "code",
   "execution_count": 106,
   "metadata": {
    "collapsed": true
   },
   "outputs": [],
   "source": [
    "%matplotlib inline"
   ]
  },
  {
   "cell_type": "markdown",
   "metadata": {},
   "source": [
    "The length of stay in days is an important metric for determining quality of care. In the case of kidney transplants increased length of stay may indicate complications with the surgery or issues with post-operative care. We will use the seaborn library to visualize how the distribution of length of stay differs across demographics and facilities. If you are unable to install the  seaborn library installed then you should not execute statements that start with `sb`. The library can be installed from the commandline as ```conda install seaborn```."
   ]
  },
  {
   "cell_type": "code",
   "execution_count": 107,
   "metadata": {
    "collapsed": false
   },
   "outputs": [],
   "source": [
    "import seaborn as sb"
   ]
  },
  {
   "cell_type": "code",
   "execution_count": 108,
   "metadata": {
    "collapsed": false
   },
   "outputs": [
    {
     "data": {
      "text/plain": [
       "<matplotlib.axes._subplots.AxesSubplot at 0x138695c0>"
      ]
     },
     "execution_count": 108,
     "metadata": {},
     "output_type": "execute_result"
    },
    {
     "data": {
      "image/png": "[encoded data removed]",
      "text/plain": [
       "<matplotlib.figure.Figure at 0x1352af98>"
      ]
     },
     "metadata": {},
     "output_type": "display_data"
    }
   ],
   "source": [
    "sb.violinplot(x=\"age_group\", y=\"length_of_stay\", hue=\"gender\", data=kidney_transplants_df)"
   ]
  },
  {
   "cell_type": "markdown",
   "metadata": {},
   "source": [
    "There are important varations in the length of stay across facilities. What do you think about the locations that have lower median/mean length of stay and a tigher distribution around the median/mean."
   ]
  },
  {
   "cell_type": "code",
   "execution_count": 109,
   "metadata": {
    "collapsed": false
   },
   "outputs": [
    {
     "data": {
      "text/plain": [
       "<matplotlib.axes._subplots.AxesSubplot at 0x13e3e4a8>"
      ]
     },
     "execution_count": 109,
     "metadata": {},
     "output_type": "execute_result"
    },
    {
     "data": {
      "image/png": "[encoded data removed]",
      "text/plain": [
       "<matplotlib.figure.Figure at 0x1378aeb8>"
      ]
     },
     "metadata": {},
     "output_type": "display_data"
    }
   ],
   "source": [
    "sb.violinplot(x=\"facility_id\", y=\"length_of_stay\", data=kidney_transplants_df)"
   ]
  },
  {
   "cell_type": "code",
   "execution_count": 110,
   "metadata": {
    "collapsed": false
   },
   "outputs": [
    {
     "data": {
      "text/plain": [
       "<matplotlib.axes._subplots.AxesSubplot at 0x140982b0>"
      ]
     },
     "execution_count": 110,
     "metadata": {},
     "output_type": "execute_result"
    },
    {
     "data": {
      "image/png": "[encoded data removed]",
      "text/plain": [
       "<matplotlib.figure.Figure at 0x14130080>"
      ]
     },
     "metadata": {},
     "output_type": "display_data"
    }
   ],
   "source": [
    "sb.violinplot(x=\"facility_id\", y=\"length_of_stay\", data=kidney_transplants_df)"
   ]
  },
  {
   "cell_type": "code",
   "execution_count": 111,
   "metadata": {
    "collapsed": true
   },
   "outputs": [],
   "source": [
    "kidney_transplants_outliers_removed_df = kidney_transplants_df.where(kidney_transplants_df[\"length_of_stay\"] <= 40)"
   ]
  },
  {
   "cell_type": "code",
   "execution_count": 112,
   "metadata": {
    "collapsed": false
   },
   "outputs": [
    {
     "data": {
      "text/plain": [
       "<matplotlib.axes._subplots.AxesSubplot at 0x144ba6d8>"
      ]
     },
     "execution_count": 112,
     "metadata": {},
     "output_type": "execute_result"
    },
    {
     "data": {
      "image/png": "[encoded data removed]",
      "text/plain": [
       "<matplotlib.figure.Figure at 0x1415e208>"
      ]
     },
     "metadata": {},
     "output_type": "display_data"
    }
   ],
   "source": [
    "sb.violinplot(x=\"facility_id\", y=\"length_of_stay\", data=kidney_transplants_outliers_removed_df)"
   ]
  },
  {
   "cell_type": "code",
   "execution_count": 113,
   "metadata": {
    "collapsed": false
   },
   "outputs": [],
   "source": [
    "kidney_transplants_df[\"facility_name_with_id\"] = kidney_transplants_df.apply(\n",
    "    lambda x: str(\"000\" + str(int(x[\"facility_id\"])))[-4:] + \" - \" + x[\"facility_name\"], axis=1)"
   ]
  },
  {
   "cell_type": "code",
   "execution_count": 114,
   "metadata": {
    "collapsed": false
   },
   "outputs": [
    {
     "data": {
      "text/plain": [
       "facility_name_with_id\n",
       "0001 - Albany Medical Center Hospital                                     9.327273\n",
       "0210 - Erie County Medical Center                                         6.148649\n",
       "0245 - University Hospital                                                6.762712\n",
       "0413 - Strong Memorial Hospital                                           9.250000\n",
       "0541 - North Shore University Hospital                                    6.137931\n",
       "0635 - University Hospital SUNY Health Science Center                     5.265625\n",
       "1139 - Westchester Medical Center                                         8.703704\n",
       "1169 - Montefiore Medical Center - Henry & Lucy Moses Div                 6.477419\n",
       "1320 - University Hospital of Brooklyn                                   10.521739\n",
       "1456 - Mount Sinai Hospital                                               7.228395\n",
       "1458 - New York Presbyterian Hospital - New York Weill Cornell Center     5.246445\n",
       "1463 - NYU Hospitals Center                                               5.960000\n",
       "1464 - New York Presbyterian Hospital - Columbia Presbyterian Center      7.235556\n",
       "Name: length_of_stay, dtype: float64"
      ]
     },
     "execution_count": 114,
     "metadata": {},
     "output_type": "execute_result"
    }
   ],
   "source": [
    "kidney_transplants_df.groupby([\"facility_name_with_id\"])[\"length_of_stay\"].mean()"
   ]
  },
  {
   "cell_type": "code",
   "execution_count": 115,
   "metadata": {
    "collapsed": false
   },
   "outputs": [
    {
     "data": {
      "text/plain": [
       "facility_name_with_id\n",
       "0001 - Albany Medical Center Hospital                                     55\n",
       "0210 - Erie County Medical Center                                         74\n",
       "0245 - University Hospital                                                59\n",
       "0413 - Strong Memorial Hospital                                           60\n",
       "0541 - North Shore University Hospital                                    29\n",
       "0635 - University Hospital SUNY Health Science Center                     64\n",
       "1139 - Westchester Medical Center                                         27\n",
       "1169 - Montefiore Medical Center - Henry & Lucy Moses Div                155\n",
       "1320 - University Hospital of Brooklyn                                    23\n",
       "1456 - Mount Sinai Hospital                                              162\n",
       "1458 - New York Presbyterian Hospital - New York Weill Cornell Center    211\n",
       "1463 - NYU Hospitals Center                                               25\n",
       "1464 - New York Presbyterian Hospital - Columbia Presbyterian Center     225\n",
       "Name: length_of_stay, dtype: int64"
      ]
     },
     "execution_count": 115,
     "metadata": {},
     "output_type": "execute_result"
    }
   ],
   "source": [
    "kidney_transplants_df.groupby([\"facility_name_with_id\"])[\"length_of_stay\"].count()"
   ]
  },
  {
   "cell_type": "markdown",
   "metadata": {},
   "source": [
    "We do some additional grouping and counts to understand the data better. The SPARCS data includes information on where a patient was discharged. Another important quality indicator for transplant success is patient mortality or known as \"Expired\"."
   ]
  },
  {
   "cell_type": "code",
   "execution_count": 116,
   "metadata": {
    "collapsed": false
   },
   "outputs": [
    {
     "data": {
      "text/plain": [
       "patient_disposition                facility_name                                                 \n",
       "Expired                            Montefiore Medical Center - Henry & Lucy Moses Div                  3\n",
       "                                   NYU Hospitals Center                                                1\n",
       "                                   New York Presbyterian Hospital - Columbia Presbyterian Center       1\n",
       "                                   North Shore University Hospital                                     1\n",
       "                                   University Hospital                                                 1\n",
       "Home or Self Care                  Albany Medical Center Hospital                                     45\n",
       "                                   Erie County Medical Center                                         71\n",
       "                                   Montefiore Medical Center - Henry & Lucy Moses Div                113\n",
       "                                   Mount Sinai Hospital                                               84\n",
       "                                   NYU Hospitals Center                                                4\n",
       "                                   New York Presbyterian Hospital - Columbia Presbyterian Center      96\n",
       "                                   New York Presbyterian Hospital - New York Weill Cornell Center    177\n",
       "                                   North Shore University Hospital                                    26\n",
       "                                   Strong Memorial Hospital                                           54\n",
       "                                   University Hospital                                                42\n",
       "                                   University Hospital SUNY Health Science Center                     53\n",
       "                                   University Hospital of Brooklyn                                    17\n",
       "                                   Westchester Medical Center                                         20\n",
       "Home w/ Home Health Services       Albany Medical Center Hospital                                      9\n",
       "                                   Erie County Medical Center                                          3\n",
       "                                   Montefiore Medical Center - Henry & Lucy Moses Div                 37\n",
       "                                   Mount Sinai Hospital                                               74\n",
       "                                   NYU Hospitals Center                                               20\n",
       "                                   New York Presbyterian Hospital - Columbia Presbyterian Center     122\n",
       "                                   New York Presbyterian Hospital - New York Weill Cornell Center     32\n",
       "                                   North Shore University Hospital                                     2\n",
       "                                   Strong Memorial Hospital                                            5\n",
       "                                   University Hospital                                                16\n",
       "                                   University Hospital SUNY Health Science Center                     11\n",
       "                                   University Hospital of Brooklyn                                     4\n",
       "                                   Westchester Medical Center                                          6\n",
       "Hospice - Home                     New York Presbyterian Hospital - Columbia Presbyterian Center       1\n",
       "Inpatient Rehabilitation Facility  Albany Medical Center Hospital                                      1\n",
       "                                   New York Presbyterian Hospital - Columbia Presbyterian Center       3\n",
       "                                   New York Presbyterian Hospital - New York Weill Cornell Center      1\n",
       "                                   Strong Memorial Hospital                                            1\n",
       "                                   University Hospital of Brooklyn                                     2\n",
       "                                   Westchester Medical Center                                          1\n",
       "Skilled Nursing Home               Montefiore Medical Center - Henry & Lucy Moses Div                  2\n",
       "                                   Mount Sinai Hospital                                                4\n",
       "                                   New York Presbyterian Hospital - Columbia Presbyterian Center       2\n",
       "                                   New York Presbyterian Hospital - New York Weill Cornell Center      1\n",
       "Name: length_of_stay, dtype: int64"
      ]
     },
     "execution_count": 116,
     "metadata": {},
     "output_type": "execute_result"
    }
   ],
   "source": [
    "kidney_transplants_df.groupby([\"patient_disposition\", \"facility_name\"])[\"length_of_stay\"].count()"
   ]
  },
  {
   "cell_type": "code",
   "execution_count": 117,
   "metadata": {
    "collapsed": false
   },
   "outputs": [
    {
     "data": {
      "text/plain": [
       "age_group\n",
       "0 to 17         48\n",
       "18 to 29        74\n",
       "30 to 49       369\n",
       "50 to 69       582\n",
       "70 or Older     96\n",
       "Name: length_of_stay, dtype: int64"
      ]
     },
     "execution_count": 117,
     "metadata": {},
     "output_type": "execute_result"
    }
   ],
   "source": [
    "kidney_transplants_df.groupby([\"age_group\"])[\"length_of_stay\"].count()"
   ]
  },
  {
   "cell_type": "code",
   "execution_count": 118,
   "metadata": {
    "collapsed": false
   },
   "outputs": [
    {
     "data": {
      "text/plain": [
       "age_group\n",
       "0 to 17        10.479167\n",
       "18 to 29        6.675676\n",
       "30 to 49        6.203252\n",
       "50 to 69        6.817869\n",
       "70 or Older     7.489583\n",
       "Name: length_of_stay, dtype: float64"
      ]
     },
     "execution_count": 118,
     "metadata": {},
     "output_type": "execute_result"
    }
   ],
   "source": [
    "kidney_transplants_df.groupby([\"age_group\"])[\"length_of_stay\"].mean()"
   ]
  },
  {
   "cell_type": "code",
   "execution_count": 119,
   "metadata": {
    "collapsed": false
   },
   "outputs": [
    {
     "data": {
      "text/plain": [
       "patient_disposition\n",
       "Expired                                7\n",
       "Home or Self Care                    802\n",
       "Home w/ Home Health Services         341\n",
       "Hospice - Home                         1\n",
       "Inpatient Rehabilitation Facility      9\n",
       "Skilled Nursing Home                   9\n",
       "Name: length_of_stay, dtype: int64"
      ]
     },
     "execution_count": 119,
     "metadata": {},
     "output_type": "execute_result"
    }
   ],
   "source": [
    "kidney_transplants_df.groupby([\"patient_disposition\"])[\"length_of_stay\"].count()"
   ]
  },
  {
   "cell_type": "markdown",
   "metadata": {},
   "source": [
    "We end with an analysis showing which day of the week a patient is most frequently admitted for a kidney transplant. Due to the complexity of this surgery it makes sense that most are performed during the week."
   ]
  },
  {
   "cell_type": "code",
   "execution_count": 120,
   "metadata": {
    "collapsed": false
   },
   "outputs": [
    {
     "data": {
      "text/plain": [
       "<matplotlib.axes._subplots.AxesSubplot at 0x14b313c8>"
      ]
     },
     "execution_count": 120,
     "metadata": {},
     "output_type": "execute_result"
    },
    {
     "data": {
      "image/png": "[encoded data removed]",
      "text/plain": [
       "<matplotlib.figure.Figure at 0x1487f320>"
      ]
     },
     "metadata": {},
     "output_type": "display_data"
    }
   ],
   "source": [
    "sb.countplot(x=\"admit_day_of_week\", data=kidney_transplants_df)"
   ]
  },
  {
   "cell_type": "code",
   "execution_count": 121,
   "metadata": {
    "collapsed": false
   },
   "outputs": [
    {
     "data": {
      "text/plain": [
       "<matplotlib.axes._subplots.AxesSubplot at 0x14ac4c88>"
      ]
     },
     "execution_count": 121,
     "metadata": {},
     "output_type": "execute_result"
    },
    {
     "data": {
      "image/png": "[encoded data removed]",
      "text/plain": [
       "<matplotlib.figure.Figure at 0x1487f0b8>"
      ]
     },
     "metadata": {},
     "output_type": "display_data"
    }
   ],
   "source": [
    "sb.countplot(x=\"admit_day_of_week\", data=kidney_transplants_df, order=[\"SUN\",\"MON\", \"TUE\", \"WED\", \"THU\", \"FRI\", \"SAT\"])"
   ]
  }
 ],
 "metadata": {
  "kernelspec": {
   "display_name": "Python 3",
   "language": "python",
   "name": "python3"
  },
  "language_info": {
   "codemirror_mode": {
    "name": "ipython",
    "version": 3
   },
   "file_extension": ".py",
   "mimetype": "text/x-python",
   "name": "python",
   "nbconvert_exporter": "python",
   "pygments_lexer": "ipython3",
   "version": "3.5.1+"
  }
 },
 "nbformat": 4,
 "nbformat_minor": 0
}
